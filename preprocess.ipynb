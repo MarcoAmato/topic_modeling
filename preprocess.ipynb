{
 "cells": [
  {
   "cell_type": "code",
   "outputs": [],
   "source": [
    "import pandas as pd"
   ],
   "metadata": {
    "collapsed": false,
    "ExecuteTime": {
     "end_time": "2024-04-12T08:50:41.435163Z",
     "start_time": "2024-04-12T08:50:39.593871Z"
    }
   },
   "id": "a87d9c04e0449e81",
   "execution_count": 3
  },
  {
   "cell_type": "code",
   "execution_count": 9,
   "id": "initial_id",
   "metadata": {
    "collapsed": true,
    "ExecuteTime": {
     "end_time": "2024-04-12T08:53:32.507396Z",
     "start_time": "2024-04-12T08:53:31.174333Z"
    }
   },
   "outputs": [],
   "source": [
    "df = pd.read_csv('resources/tripadvisor_hotel_reviews.csv')\n",
    "\n",
    "# extract rating column\n",
    "reviews = df['Review']\n",
    "\n",
    "# save reviews to a text file\n",
    "with open('resources/reviews.txt', 'w', encoding=\"utf-8\") as f:\n",
    "    for review in reviews:\n",
    "        f.write(review + '\\n')"
   ]
  }
 ],
 "metadata": {
  "kernelspec": {
   "display_name": "Python 3",
   "language": "python",
   "name": "python3"
  },
  "language_info": {
   "codemirror_mode": {
    "name": "ipython",
    "version": 2
   },
   "file_extension": ".py",
   "mimetype": "text/x-python",
   "name": "python",
   "nbconvert_exporter": "python",
   "pygments_lexer": "ipython2",
   "version": "2.7.6"
  }
 },
 "nbformat": 4,
 "nbformat_minor": 5
}
